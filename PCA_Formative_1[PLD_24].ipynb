{
  "cells": [
    {
      "cell_type": "markdown",
      "metadata": {
        "id": "JqkivgEHr_KW"
      },
      "source": [
        "# Formative Assignment: Advanced Linear Algebra (PCA)\n",
        "This notebook will guide you through the implementation of Principal Component Analysis (PCA). Fill in the missing code and provide the required answers in the appropriate sections. You will work with the `fuel_econ.csv` dataset.\n",
        "\n",
        "Make sure to display outputs for each code cell when submitting."
      ]
    },
    {
      "cell_type": "markdown",
      "metadata": {
        "id": "xycIp758r_Kb"
      },
      "source": [
        "### Step 1: Load and Standardize the Data\n",
        "Before applying PCA, we must standardize the dataset. Standardization ensures that all features have a mean of 0 and a standard deviation of 1, which is essential for PCA.\n",
        "Fill in the code to standardize the dataset.\n",
        "\n",
        "STRICTLY - Write code that implements standardization based on the image below\n",
        "\n",
        "<img src='data:image/jpeg;base64,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'/>\n"
      ]
    },
    {
      "cell_type": "code",
      "source": [
        "from google.colab import files\n",
        "uploaded = files.upload()\n",
        "\n"
      ],
      "metadata": {
        "colab": {
          "base_uri": "https://localhost:8080/",
          "height": 72
        },
        "id": "y7Da0qGWaAHk",
        "outputId": "416c7ca9-8274-4c89-9053-f1bbe9e2397e"
      },
      "execution_count": 1,
      "outputs": [
        {
          "output_type": "display_data",
          "data": {
            "text/plain": [
              "<IPython.core.display.HTML object>"
            ],
            "text/html": [
              "\n",
              "     <input type=\"file\" id=\"files-01cc86fe-d858-45fe-8f3b-e9e92cd59814\" name=\"files[]\" multiple disabled\n",
              "        style=\"border:none\" />\n",
              "     <output id=\"result-01cc86fe-d858-45fe-8f3b-e9e92cd59814\">\n",
              "      Upload widget is only available when the cell has been executed in the\n",
              "      current browser session. Please rerun this cell to enable.\n",
              "      </output>\n",
              "      <script>// Copyright 2017 Google LLC\n",
              "//\n",
              "// Licensed under the Apache License, Version 2.0 (the \"License\");\n",
              "// you may not use this file except in compliance with the License.\n",
              "// You may obtain a copy of the License at\n",
              "//\n",
              "//      http://www.apache.org/licenses/LICENSE-2.0\n",
              "//\n",
              "// Unless required by applicable law or agreed to in writing, software\n",
              "// distributed under the License is distributed on an \"AS IS\" BASIS,\n",
              "// WITHOUT WARRANTIES OR CONDITIONS OF ANY KIND, either express or implied.\n",
              "// See the License for the specific language governing permissions and\n",
              "// limitations under the License.\n",
              "\n",
              "/**\n",
              " * @fileoverview Helpers for google.colab Python module.\n",
              " */\n",
              "(function(scope) {\n",
              "function span(text, styleAttributes = {}) {\n",
              "  const element = document.createElement('span');\n",
              "  element.textContent = text;\n",
              "  for (const key of Object.keys(styleAttributes)) {\n",
              "    element.style[key] = styleAttributes[key];\n",
              "  }\n",
              "  return element;\n",
              "}\n",
              "\n",
              "// Max number of bytes which will be uploaded at a time.\n",
              "const MAX_PAYLOAD_SIZE = 100 * 1024;\n",
              "\n",
              "function _uploadFiles(inputId, outputId) {\n",
              "  const steps = uploadFilesStep(inputId, outputId);\n",
              "  const outputElement = document.getElementById(outputId);\n",
              "  // Cache steps on the outputElement to make it available for the next call\n",
              "  // to uploadFilesContinue from Python.\n",
              "  outputElement.steps = steps;\n",
              "\n",
              "  return _uploadFilesContinue(outputId);\n",
              "}\n",
              "\n",
              "// This is roughly an async generator (not supported in the browser yet),\n",
              "// where there are multiple asynchronous steps and the Python side is going\n",
              "// to poll for completion of each step.\n",
              "// This uses a Promise to block the python side on completion of each step,\n",
              "// then passes the result of the previous step as the input to the next step.\n",
              "function _uploadFilesContinue(outputId) {\n",
              "  const outputElement = document.getElementById(outputId);\n",
              "  const steps = outputElement.steps;\n",
              "\n",
              "  const next = steps.next(outputElement.lastPromiseValue);\n",
              "  return Promise.resolve(next.value.promise).then((value) => {\n",
              "    // Cache the last promise value to make it available to the next\n",
              "    // step of the generator.\n",
              "    outputElement.lastPromiseValue = value;\n",
              "    return next.value.response;\n",
              "  });\n",
              "}\n",
              "\n",
              "/**\n",
              " * Generator function which is called between each async step of the upload\n",
              " * process.\n",
              " * @param {string} inputId Element ID of the input file picker element.\n",
              " * @param {string} outputId Element ID of the output display.\n",
              " * @return {!Iterable<!Object>} Iterable of next steps.\n",
              " */\n",
              "function* uploadFilesStep(inputId, outputId) {\n",
              "  const inputElement = document.getElementById(inputId);\n",
              "  inputElement.disabled = false;\n",
              "\n",
              "  const outputElement = document.getElementById(outputId);\n",
              "  outputElement.innerHTML = '';\n",
              "\n",
              "  const pickedPromise = new Promise((resolve) => {\n",
              "    inputElement.addEventListener('change', (e) => {\n",
              "      resolve(e.target.files);\n",
              "    });\n",
              "  });\n",
              "\n",
              "  const cancel = document.createElement('button');\n",
              "  inputElement.parentElement.appendChild(cancel);\n",
              "  cancel.textContent = 'Cancel upload';\n",
              "  const cancelPromise = new Promise((resolve) => {\n",
              "    cancel.onclick = () => {\n",
              "      resolve(null);\n",
              "    };\n",
              "  });\n",
              "\n",
              "  // Wait for the user to pick the files.\n",
              "  const files = yield {\n",
              "    promise: Promise.race([pickedPromise, cancelPromise]),\n",
              "    response: {\n",
              "      action: 'starting',\n",
              "    }\n",
              "  };\n",
              "\n",
              "  cancel.remove();\n",
              "\n",
              "  // Disable the input element since further picks are not allowed.\n",
              "  inputElement.disabled = true;\n",
              "\n",
              "  if (!files) {\n",
              "    return {\n",
              "      response: {\n",
              "        action: 'complete',\n",
              "      }\n",
              "    };\n",
              "  }\n",
              "\n",
              "  for (const file of files) {\n",
              "    const li = document.createElement('li');\n",
              "    li.append(span(file.name, {fontWeight: 'bold'}));\n",
              "    li.append(span(\n",
              "        `(${file.type || 'n/a'}) - ${file.size} bytes, ` +\n",
              "        `last modified: ${\n",
              "            file.lastModifiedDate ? file.lastModifiedDate.toLocaleDateString() :\n",
              "                                    'n/a'} - `));\n",
              "    const percent = span('0% done');\n",
              "    li.appendChild(percent);\n",
              "\n",
              "    outputElement.appendChild(li);\n",
              "\n",
              "    const fileDataPromise = new Promise((resolve) => {\n",
              "      const reader = new FileReader();\n",
              "      reader.onload = (e) => {\n",
              "        resolve(e.target.result);\n",
              "      };\n",
              "      reader.readAsArrayBuffer(file);\n",
              "    });\n",
              "    // Wait for the data to be ready.\n",
              "    let fileData = yield {\n",
              "      promise: fileDataPromise,\n",
              "      response: {\n",
              "        action: 'continue',\n",
              "      }\n",
              "    };\n",
              "\n",
              "    // Use a chunked sending to avoid message size limits. See b/62115660.\n",
              "    let position = 0;\n",
              "    do {\n",
              "      const length = Math.min(fileData.byteLength - position, MAX_PAYLOAD_SIZE);\n",
              "      const chunk = new Uint8Array(fileData, position, length);\n",
              "      position += length;\n",
              "\n",
              "      const base64 = btoa(String.fromCharCode.apply(null, chunk));\n",
              "      yield {\n",
              "        response: {\n",
              "          action: 'append',\n",
              "          file: file.name,\n",
              "          data: base64,\n",
              "        },\n",
              "      };\n",
              "\n",
              "      let percentDone = fileData.byteLength === 0 ?\n",
              "          100 :\n",
              "          Math.round((position / fileData.byteLength) * 100);\n",
              "      percent.textContent = `${percentDone}% done`;\n",
              "\n",
              "    } while (position < fileData.byteLength);\n",
              "  }\n",
              "\n",
              "  // All done.\n",
              "  yield {\n",
              "    response: {\n",
              "      action: 'complete',\n",
              "    }\n",
              "  };\n",
              "}\n",
              "\n",
              "scope.google = scope.google || {};\n",
              "scope.google.colab = scope.google.colab || {};\n",
              "scope.google.colab._files = {\n",
              "  _uploadFiles,\n",
              "  _uploadFilesContinue,\n",
              "};\n",
              "})(self);\n",
              "</script> "
            ]
          },
          "metadata": {}
        },
        {
          "output_type": "stream",
          "name": "stdout",
          "text": [
            "Saving co2 Emission Africa.csv to co2 Emission Africa.csv\n"
          ]
        }
      ]
    },
    {
      "cell_type": "code",
      "source": [
        "import pandas as pd\n",
        "import numpy as np\n",
        "import io\n",
        "\n",
        "# Replace with the actual file name after upload\n",
        "df = pd.read_csv(io.BytesIO(uploaded['co2 Emission Africa.csv']))\n",
        "\n",
        "# Select only numerical columns\n",
        "numeric_df = df.select_dtypes(include=[np.number])\n",
        "\n",
        "# Drop rows with missing values (NaNs)\n",
        "numeric_df_clean = numeric_df.dropna()\n",
        "\n",
        "# Convert to NumPy array\n",
        "data = numeric_df_clean.to_numpy()\n",
        "\n",
        "# Check shape\n",
        "print(\"Cleaned data shape:\", data.shape)\n"
      ],
      "metadata": {
        "colab": {
          "base_uri": "https://localhost:8080/"
        },
        "id": "uOQvs2Uvatrx",
        "outputId": "48a7debf-8ef1-48dd-b83e-42a45b3192bd"
      },
      "execution_count": 17,
      "outputs": [
        {
          "output_type": "stream",
          "name": "stdout",
          "text": [
            "Cleaned data shape: (330, 17)\n"
          ]
        }
      ]
    },
    {
      "cell_type": "code",
      "execution_count": 18,
      "metadata": {
        "id": "BKihXBaBr_Kc",
        "colab": {
          "base_uri": "https://localhost:8080/"
        },
        "outputId": "d52ac099-bda7-4d6f-ea18-82a10d03a9e2"
      },
      "outputs": [
        {
          "output_type": "stream",
          "name": "stdout",
          "text": [
            "Standardized Data (First 5 rows):\n",
            "[[-1.71496975 -0.14243303 -0.49896224 -0.00485044  1.84081537  0.21069425\n",
            "  -0.1849681   0.17460049 -0.54684019 -0.07391504 -0.37650919  0.22375503\n",
            "   1.28064099  0.16887788  0.00296155  0.03733294  0.72267357]\n",
            " [-1.54992454 -0.1321311  -0.50627151  0.04056701  1.84081537  0.22192654\n",
            "  -0.21563072  0.16107433 -0.54684019 -0.0670783  -0.40172663  0.21947002\n",
            "   0.91718155  0.15519044  0.01839593  0.04370309  0.75087663]\n",
            " [-1.38487934 -0.12189327 -0.49487415  0.11117987  1.84081537  0.3590788\n",
            "  -0.18930847  0.19730512 -0.54684019 -0.03897171 -0.40172663  0.28160256\n",
            "   0.70841245  0.1896074   0.04956438  0.10421951  0.80164214]\n",
            " [-1.21983413 -0.11147481 -0.40358199  0.21208662  1.84081537  0.50096045\n",
            "  -0.14884501  0.25324546 -0.54684019 -0.00934584 -0.40172663  0.27517505\n",
            "   0.95616855  0.24723351  0.05331059  0.01503741  0.91304424]\n",
            " [-1.05478892 -0.10049781 -0.25973393  0.28980821  1.84081537  0.51692214\n",
            "  -0.13967423  0.26580547 -0.54684019  0.07269501 -0.40172663  0.46157265\n",
            "   0.83669226  0.25159762  0.04162242  0.11058966  1.0314971 ]]\n"
          ]
        }
      ],
      "source": [
        "# STEP 1: Standardize the data\n",
        "data_mean = np.mean(data, axis=0)\n",
        "data_std = np.std(data, axis=0)\n",
        "standardized_data = (data - data_mean) / data_std\n",
        "\n",
        "print(\"Standardized Data (First 5 rows):\")\n",
        "print(standardized_data[:5])\n"
      ]
    },
    {
      "cell_type": "markdown",
      "metadata": {
        "id": "Fybn40Syr_Kd"
      },
      "source": [
        "### Step 2: Calculate the Covariance Matrix\n",
        "The covariance matrix helps us understand how the features are related to each other. It is a key component in PCA."
      ]
    },
    {
      "cell_type": "code",
      "execution_count": 19,
      "metadata": {
        "id": "RbklA9tqr_Ke",
        "colab": {
          "base_uri": "https://localhost:8080/"
        },
        "outputId": "ff598d95-ee11-4e05-f229-29410db46550"
      },
      "outputs": [
        {
          "output_type": "stream",
          "name": "stdout",
          "text": [
            "\n",
            "Covariance Matrix:\n",
            "[[ 1.00303951  0.10748063  0.13783673  0.05397515 -0.00761817  0.14465283\n",
            "   0.05999254  0.04769878  0.09131424  0.01281942  0.03073995  0.11507496\n",
            "  -0.14220085  0.0436431   0.03468177 -0.06466674  0.05952089]\n",
            " [ 0.10748063  1.00303951 -0.29184749 -0.29409648  0.27402465  0.6535024\n",
            "   0.49491469  0.38868549  0.43520209  0.32519007  0.25780823  0.50730999\n",
            "   0.55180051  0.37553935  0.23029065  0.29994021  0.27085203]\n",
            " [ 0.13783673 -0.29184749  1.00303951  0.92690593 -0.13331978  0.09082477\n",
            "  -0.11259676  0.17117738  0.07937603  0.14608792 -0.28603499 -0.01584431\n",
            "  -0.03367119  0.17646023  0.20287188  0.14903644  0.12768072]\n",
            " [ 0.05397515 -0.29409648  0.92690593  1.00303951 -0.05246579  0.16312817\n",
            "  -0.14490526  0.19467264  0.08925651  0.17569931 -0.34566835  0.11112478\n",
            "   0.00906471  0.19470269  0.19440669  0.14613537  0.18861365]\n",
            " [-0.00761817  0.27402465 -0.13331978 -0.05246579  1.00303951  0.32268973\n",
            "   0.52168601  0.22419379  0.1432091   0.14035447  0.43424174  0.1820631\n",
            "   0.19745941  0.22173334  0.16323988  0.16428274  0.32506225]\n",
            " [ 0.14465283  0.6535024   0.09082477  0.16312817  0.32268973  1.00303951\n",
            "   0.47676952  0.87197435  0.79915233  0.80669616 -0.18742464  0.79777243\n",
            "   0.3549784   0.85823089  0.7287278   0.71495555  0.83564774]\n",
            " [ 0.05999254  0.49491469 -0.11259676 -0.14490526  0.52168601  0.47676952\n",
            "   1.00303951  0.58184878  0.48978119  0.55293526  0.70283976  0.28355295\n",
            "   0.00625114  0.58419813  0.58557237  0.5525465   0.489446  ]\n",
            " [ 0.04769878  0.38868549  0.17117738  0.19467264  0.22419379  0.87197435\n",
            "   0.58184878  1.00303951  0.85786437  0.96314681 -0.17520076  0.5912897\n",
            "   0.11128592  1.00233799  0.96958575  0.92402423  0.89715642]\n",
            " [ 0.09131424  0.43520209  0.07937603  0.08925651  0.1432091   0.79915233\n",
            "   0.48978119  0.85786437  1.00303951  0.82689815 -0.15933389  0.62402836\n",
            "   0.12060994  0.85178759  0.79352649  0.7575867   0.7896664 ]\n",
            " [ 0.01281942  0.32519007  0.14608792  0.17569931  0.14035447  0.80669616\n",
            "   0.55293526  0.96314681  0.82689815  1.00303951 -0.17520884  0.65259164\n",
            "  -0.03700681  0.95854547  0.93424201  0.91949806  0.86358974]\n",
            " [ 0.03073995  0.25780823 -0.28603499 -0.34566835  0.43424174 -0.18742464\n",
            "   0.70283976 -0.17520076 -0.15933389 -0.17520884  1.00303951 -0.17513635\n",
            "  -0.08992094 -0.17174651 -0.14139791 -0.14141374 -0.19415749]\n",
            " [ 0.11507496  0.50730999 -0.01584431  0.11112478  0.1820631   0.79777243\n",
            "   0.28355295  0.5912897   0.62402836  0.65259164 -0.17513635  1.00303951\n",
            "   0.15064075  0.56057875  0.40862577  0.42343045  0.66919412]\n",
            " [-0.14220085  0.55180051 -0.03367119  0.00906471  0.19745941  0.3549784\n",
            "   0.00625114  0.11128592  0.12060994 -0.03700681 -0.08992094  0.15064075\n",
            "   1.00303951  0.10727372 -0.057771    0.01022802  0.13283677]\n",
            " [ 0.0436431   0.37553935  0.17646023  0.19470269  0.22173334  0.85823089\n",
            "   0.58419813  1.00233799  0.85178759  0.95854547 -0.17174651  0.56057875\n",
            "   0.10727372  1.00303951  0.97645003  0.92899157  0.8900348 ]\n",
            " [ 0.03468177  0.23029065  0.20287188  0.19440669  0.16323988  0.7287278\n",
            "   0.58557237  0.96958575  0.79352649  0.93424201 -0.14139791  0.40862577\n",
            "  -0.057771    0.97645003  1.00303951  0.93459832  0.81693978]\n",
            " [-0.06466674  0.29994021  0.14903644  0.14613537  0.16428274  0.71495555\n",
            "   0.5525465   0.92402423  0.7575867   0.91949806 -0.14141374  0.42343045\n",
            "   0.01022802  0.92899157  0.93459832  1.00303951  0.78012909]\n",
            " [ 0.05952089  0.27085203  0.12768072  0.18861365  0.32506225  0.83564774\n",
            "   0.489446    0.89715642  0.7896664   0.86358974 -0.19415749  0.66919412\n",
            "   0.13283677  0.8900348   0.81693978  0.78012909  1.00303951]]\n"
          ]
        }
      ],
      "source": [
        "# STEP 2: Covariance Matrix\n",
        "cov_matrix = np.cov(standardized_data, rowvar=False)\n",
        "print(\"\\nCovariance Matrix:\")\n",
        "print(cov_matrix)\n"
      ]
    },
    {
      "cell_type": "markdown",
      "metadata": {
        "id": "dWzqXsR0r_Ke"
      },
      "source": [
        "### Step 4: Perform Eigendecomposition\n",
        "Eigendecomposition of the covariance matrix will give us the eigenvalues and eigenvectors, which are essential for PCA.\n",
        "Fill in the code to compute the eigenvalues and eigenvectors of the covariance matrix."
      ]
    },
    {
      "cell_type": "code",
      "execution_count": 23,
      "metadata": {
        "id": "8Tm0rzdAr_Ke",
        "colab": {
          "base_uri": "https://localhost:8080/"
        },
        "outputId": "091b4e09-57e6-439d-a8fd-44eb7b25cfc5"
      },
      "outputs": [
        {
          "output_type": "stream",
          "name": "stdout",
          "text": [
            "Eigenvalues: [8.22394585 2.75388515 1.6224007  1.38191149 1.11379286]\n",
            "Eigenvectors (first 5 columns):\n",
            "[[ 0.02477528 -0.02126797  0.03719253  0.22605486  0.86055399]\n",
            " [ 0.16827788  0.35959712 -0.3579853   0.14511653  0.10334728]\n",
            " [ 0.0487177  -0.45930279  0.11367241  0.47867847 -0.03764248]\n",
            " [ 0.06098135 -0.46156622  0.04566836  0.48375753 -0.09965486]\n",
            " [ 0.10267242  0.29956627  0.12744426  0.41305678 -0.18882666]\n",
            " [ 0.32036137  0.03658562 -0.24473414  0.10241575  0.08613022]\n",
            " [ 0.21730381  0.33401305  0.35930644  0.19011424 -0.0289493 ]\n",
            " [ 0.34387409 -0.05042549  0.04319812 -0.0575481  -0.03743024]\n",
            " [ 0.30853743 -0.0099442  -0.05418849 -0.10019052  0.08269011]\n",
            " [ 0.33275059 -0.06877972  0.08838167 -0.14579706  0.00160164]\n",
            " [-0.03851481  0.44791731  0.39649215  0.28021073 -0.00220779]\n",
            " [ 0.23904258  0.03131864 -0.29211399  0.01704608  0.24012522]\n",
            " [ 0.05399045  0.13689686 -0.5742675   0.30712758 -0.31691977]\n",
            " [ 0.34195208 -0.05321272  0.05787006 -0.05986359 -0.04954013]\n",
            " [ 0.32050457 -0.08716824  0.20305107 -0.11954586 -0.06003698]\n",
            " [ 0.31312581 -0.05714756  0.14358005 -0.14678258 -0.14446811]\n",
            " [ 0.3180771  -0.04660955 -0.00952871 -0.01658272 -0.01523316]]\n"
          ]
        }
      ],
      "source": [
        "# Step 3: Perform Eigendecomposition\n",
        "eigenvalues, eigenvectors = np.linalg.eig(cov_matrix)\n",
        "print(\"Eigenvalues:\", eigenvalues[:5])\n",
        "print(\"Eigenvectors (first 5 columns):\")\n",
        "print(eigenvectors[:, :5])\n"
      ]
    },
    {
      "cell_type": "markdown",
      "metadata": {
        "id": "bp6o_4sTr_Kf"
      },
      "source": [
        "### Step 5: Sort Principal Components\n",
        "Sort the eigenvectors based on their corresponding eigenvalues in descending order. The higher the eigenvalue, the more important the eigenvector.\n",
        "Complete the code to sort the eigenvectors and print the sorted components.\n",
        "\n",
        "<a url ='https://www.youtube.com/watch?v=vaF-1xUEXsA&t=17s'>How Is Explained Variance Used In PCA?'<a/>"
      ]
    },
    {
      "cell_type": "code",
      "execution_count": 30,
      "metadata": {
        "id": "jpfoRz-Xr_Kf",
        "colab": {
          "base_uri": "https://localhost:8080/"
        },
        "outputId": "8182464d-faea-40db-dd4c-5b1b050fce82"
      },
      "outputs": [
        {
          "output_type": "stream",
          "name": "stdout",
          "text": [
            "Sorted Eigenvalues:\n",
            " [8.22394585e+00 2.75388515e+00 1.62240070e+00 1.38191149e+00\n",
            " 1.11379286e+00 7.06140068e-01 5.64715895e-01 2.41858138e-01\n",
            " 2.05229843e-01 8.43065883e-02 6.90115232e-02 4.88957903e-02\n",
            " 2.46949011e-02 1.08829436e-02 5.36141947e-09 1.03353864e-09\n",
            " 5.38314309e-10]\n",
            "Sorted Eigenvectors:\n",
            " [[ 2.47752831e-02 -2.12679684e-02  3.71925323e-02  2.26054861e-01\n",
            "   8.60553994e-01  1.13693993e-01  3.88896541e-01  8.73970819e-03\n",
            "   1.00608944e-01  1.38086841e-01  1.06458043e-01 -2.34660836e-02\n",
            "  -2.33635896e-02  5.77989403e-03 -3.08375072e-06  1.81667557e-06\n",
            "   6.22210325e-07]\n",
            " [ 1.68277877e-01  3.59597115e-01 -3.57985299e-01  1.45116529e-01\n",
            "   1.03347275e-01  3.32205641e-01 -2.11757611e-01 -4.01305612e-01\n",
            "  -2.33940104e-01 -9.61038645e-02 -3.01901868e-01 -6.52718377e-02\n",
            "  -3.96963291e-01  2.21996694e-01  1.62417620e-05  2.75012788e-06\n",
            "  -3.98741797e-06]\n",
            " [ 4.87177047e-02 -4.59302786e-01  1.13672414e-01  4.78678473e-01\n",
            "  -3.76424788e-02  1.88278194e-01 -1.34380609e-01 -5.60369595e-03\n",
            "  -9.46151573e-02  6.21707192e-02 -4.02421812e-01  5.38905852e-01\n",
            "   1.56287159e-01 -7.21944082e-03 -2.92547911e-06 -2.34115312e-06\n",
            "  -8.88371438e-07]\n",
            " [ 6.09813520e-02 -4.61566221e-01  4.56683648e-02  4.83757528e-01\n",
            "  -9.96548594e-02 -3.19450321e-02 -1.97369401e-01 -4.52423151e-02\n",
            "  -1.63502883e-02 -5.28122099e-02  3.14609250e-01 -5.71796982e-01\n",
            "  -2.51938997e-01  5.21281239e-02  4.25928810e-07  2.99169291e-06\n",
            "  -3.95215163e-07]\n",
            " [ 1.02672421e-01  2.99566273e-01  1.27444263e-01  4.13056782e-01\n",
            "  -1.88826660e-01 -5.93021994e-01  3.93151939e-01 -2.20403249e-01\n",
            "  -2.98220386e-01  7.79662091e-02  5.05344235e-02  1.38520175e-01\n",
            "  -6.79769976e-02  3.17376140e-02 -2.08643904e-06  2.19738306e-06\n",
            "  -1.55375170e-06]\n",
            " [ 3.20361372e-01  3.65856201e-02 -2.44734137e-01  1.02415748e-01\n",
            "   8.61302211e-02 -8.12164017e-02 -2.70927443e-02 -1.66647990e-01\n",
            "  -1.16167416e-02 -3.53099363e-01 -1.40070415e-01 -2.23858400e-01\n",
            "   4.79471924e-01 -5.73384065e-01 -1.72606915e-01  1.06853755e-02\n",
            "   3.14056124e-03]\n",
            " [ 2.17303809e-01  3.34013052e-01  3.59306443e-01  1.90114244e-01\n",
            "  -2.89492954e-02  1.75120290e-01 -1.60412646e-01  1.38904513e-01\n",
            "   1.54985245e-01 -8.39049538e-02  8.93809299e-02 -3.60715166e-03\n",
            "   8.94482257e-02  6.28095257e-03  1.91990105e-01  1.92467555e-01\n",
            "  -6.91687150e-01]\n",
            " [ 3.43874089e-01 -5.04254875e-02  4.31981169e-02 -5.75480981e-02\n",
            "  -3.74302419e-02  6.58962561e-02  9.52496879e-02 -4.19823132e-02\n",
            "   6.44879907e-02 -1.99495239e-01  1.23843479e-01  8.12429410e-02\n",
            "   4.38976110e-02  1.14437062e-01  4.91940309e-01  5.85134685e-01\n",
            "   4.38344918e-01]\n",
            " [ 3.08537429e-01 -9.94419578e-03 -5.41884850e-02 -1.00190519e-01\n",
            "   8.26901111e-02  6.43396741e-02 -4.64261773e-02  5.78784446e-01\n",
            "  -7.21557437e-01  1.21414833e-01  5.49628584e-02 -5.53908616e-02\n",
            "  -1.03491492e-02 -4.03056542e-02 -1.99522733e-02  1.23798028e-03\n",
            "   3.56467233e-04]\n",
            " [ 3.32750588e-01 -6.87797239e-02  8.83816658e-02 -1.45797058e-01\n",
            "   1.60164212e-03 -1.09428887e-02 -1.17680653e-01 -1.19169586e-01\n",
            "   1.35995702e-01  1.93081751e-01  2.28002775e-01  3.17147478e-01\n",
            "  -5.42054046e-01 -5.54086996e-01 -1.34360073e-01  8.31420026e-03\n",
            "   2.43547675e-03]\n",
            " [-3.85148070e-02  4.47917313e-01  3.96492148e-01  2.80210726e-01\n",
            "  -2.20778584e-03  1.53966445e-01 -2.77338047e-01  2.04679897e-01\n",
            "   1.30850814e-01  7.33112048e-02 -4.20372423e-04 -7.55082143e-02\n",
            "   6.96649250e-02 -9.26232106e-02 -1.58836479e-01 -1.59220765e-01\n",
            "   5.72216001e-01]\n",
            " [ 2.39042578e-01  3.13186435e-02 -2.92113991e-01  1.70460827e-02\n",
            "   2.40125223e-01 -4.43847058e-01 -5.51606886e-01  1.07573975e-02\n",
            "   1.69466614e-01  2.06926861e-01  2.06137914e-01  1.88152734e-01\n",
            "   2.13324113e-01  3.16837203e-01 -2.84528073e-02 -3.26790209e-02\n",
            "   2.82900497e-03]\n",
            " [ 5.39904481e-02  1.36896859e-01 -5.74267501e-01  3.07127582e-01\n",
            "  -3.16919775e-01  2.85915802e-01  2.91873334e-01  2.92216931e-01\n",
            "   2.72157619e-01  1.94627977e-01  2.57758663e-01  1.16245042e-01\n",
            "   5.27648704e-02 -1.30255093e-02 -8.11392010e-02  5.02061838e-03\n",
            "   1.47346219e-03]\n",
            " [ 3.41952082e-01 -5.32127211e-02  5.78700590e-02 -5.98635901e-02\n",
            "  -4.95401287e-02  8.81935252e-02  1.23321849e-01 -4.35931101e-02\n",
            "   5.83573450e-02 -2.14380910e-01  1.17583760e-01  7.46807169e-02\n",
            "   3.51861066e-02  1.02809532e-01  4.14039327e-01 -7.69511518e-01\n",
            "   4.25595962e-02]\n",
            " [ 3.20504573e-01 -8.71682395e-02  2.03051068e-01 -1.19545856e-01\n",
            "  -6.00369841e-02  1.50336771e-01  1.68054519e-01 -9.35027605e-02\n",
            "   1.23879396e-02 -2.95739100e-01  1.99016831e-01  1.16271332e-01\n",
            "   6.31284224e-02  4.00881612e-01 -6.80885590e-01  4.21464689e-02\n",
            "   1.23419159e-02]\n",
            " [ 3.13125812e-01 -5.71475603e-02  1.43580054e-01 -1.46782581e-01\n",
            "  -1.44468113e-01  1.69136327e-01  1.05955786e-01 -3.14388535e-01\n",
            "   8.67492545e-03  7.17516542e-01 -1.42722025e-01 -2.89213515e-01\n",
            "   2.73163352e-01  5.86823509e-02 -1.17940574e-05  3.92058583e-07\n",
            "   3.28215332e-06]\n",
            " [ 3.18077095e-01 -4.66095495e-02 -9.52871423e-03 -1.65827159e-02\n",
            "  -1.52331648e-02 -2.85068237e-01  1.40499949e-01  3.91556655e-01\n",
            "   3.82094405e-01 -3.31549597e-02 -5.94439318e-01 -2.02228991e-01\n",
            "  -2.87432583e-01  1.11856067e-01 -7.23515833e-02  4.48624134e-03\n",
            "   1.31459815e-03]]\n"
          ]
        }
      ],
      "source": [
        "# Step 4: Sort Principal Components\n",
        "sorted_indices = np.argsort(eigenvalues)[::-1]\n",
        "sorted_eigenvectors = eigenvectors[:, sorted_indices]\n",
        "sorted_eigenvalues = eigenvalues[sorted_indices]  # Also sort eigenvalues for explained variance\n",
        "\n",
        "print(\"Sorted Eigenvalues:\\n\", sorted_eigenvalues)\n",
        "print(\"Sorted Eigenvectors:\\n\", sorted_eigenvectors)\n",
        "\n"
      ]
    },
    {
      "cell_type": "markdown",
      "metadata": {
        "id": "uxbmuO27r_Kg"
      },
      "source": [
        "### Step 6: Project Data onto Principal Components\n",
        "Now that we’ve selected the number of components, we will project the original data onto the chosen principal components.\n",
        "Fill in the code to perform the projection."
      ]
    },
    {
      "cell_type": "code",
      "execution_count": 26,
      "metadata": {
        "id": "ubjIMAtWr_Kg",
        "colab": {
          "base_uri": "https://localhost:8080/"
        },
        "outputId": "4eb6ba9d-fdb6-4602-9c7a-95e48aa9c0c8"
      },
      "outputs": [
        {
          "output_type": "stream",
          "name": "stdout",
          "text": [
            "Number of components selected: 7\n",
            "Reduced data (first 5 rows):\n",
            "[[ 0.42935206  0.68437608 -0.8637427   0.41646094 -2.22348981 -1.47558928\n",
            "   0.71121917]\n",
            " [ 0.42370249  0.59386391 -0.67083127  0.34764392 -1.96965765 -1.57522606\n",
            "   0.67657943]\n",
            " [ 0.56628115  0.52925077 -0.56563111  0.36035136 -1.75630504 -1.64140247\n",
            "   0.64315384]\n",
            " [ 0.70632038  0.48505569 -0.71355777  0.58970013 -1.68964278 -1.57379245\n",
            "   0.75425406]\n",
            " [ 0.86617829  0.36020717 -0.65963377  0.67738105 -1.49136757 -1.66241126\n",
            "   0.65873375]]\n"
          ]
        }
      ],
      "source": [
        "# Step 6: Decide number of components (e.g., keep 95% of variance)\n",
        "\n",
        "# Calculate explained variance ratio\n",
        "explained_variance_ratio = sorted_eigenvalues / np.sum(sorted_eigenvalues)\n",
        "\n",
        "# Calculate cumulative explained variance\n",
        "cumulative_variance = np.cumsum(explained_variance_ratio)\n",
        "\n",
        "variance_threshold = 0.95\n",
        "# Find the number of components to explain the variance threshold\n",
        "# np.argmax returns the index of the first True value\n",
        "num_components = np.argmax(cumulative_variance >= variance_threshold) + 1\n",
        "print(f\"Number of components selected: {num_components}\")\n",
        "\n",
        "# Project data\n",
        "principal_components = sorted_eigenvectors[:, :num_components]\n",
        "reduced_data = standardized_data @ principal_components\n",
        "print(\"Reduced data (first 5 rows):\")\n",
        "print(reduced_data[:5])"
      ]
    },
    {
      "cell_type": "markdown",
      "metadata": {
        "id": "XVq-b6vtr_Kg"
      },
      "source": [
        "### Step 7: Output the Reduced Data\n",
        "Finally, display the reduced data obtained by projecting the original dataset onto the selected principal components."
      ]
    },
    {
      "cell_type": "code",
      "execution_count": 27,
      "metadata": {
        "id": "5D0uzRyPr_Kg",
        "colab": {
          "base_uri": "https://localhost:8080/"
        },
        "outputId": "b5617cf2-04c5-45ca-a2a5-d5e275c89142"
      },
      "outputs": [
        {
          "output_type": "stream",
          "name": "stdout",
          "text": [
            "Reduced Data Shape: (330, 7)\n"
          ]
        },
        {
          "output_type": "execute_result",
          "data": {
            "text/plain": [
              "array([[ 0.42935206,  0.68437608, -0.8637427 ,  0.41646094, -2.22348981,\n",
              "        -1.47558928,  0.71121917],\n",
              "       [ 0.42370249,  0.59386391, -0.67083127,  0.34764392, -1.96965765,\n",
              "        -1.57522606,  0.67657943],\n",
              "       [ 0.56628115,  0.52925077, -0.56563111,  0.36035136, -1.75630504,\n",
              "        -1.64140247,  0.64315384],\n",
              "       [ 0.70632038,  0.48505569, -0.71355777,  0.58970013, -1.68964278,\n",
              "        -1.57379245,  0.75425406],\n",
              "       [ 0.86617829,  0.36020717, -0.65963377,  0.67738105, -1.49136757,\n",
              "        -1.66241126,  0.65873375]])"
            ]
          },
          "metadata": {},
          "execution_count": 27
        }
      ],
      "source": [
        "# Step 7: Output the Reduced Data\n",
        "print(f'Reduced Data Shape: {reduced_data.shape}')  # Display reduced data shape\n",
        "reduced_data[:5]  # Display the first few rows of reduced data"
      ]
    },
    {
      "cell_type": "markdown",
      "metadata": {
        "id": "S1f8ROm5r_Kg"
      },
      "source": [
        "### Step 8: Visualize Before and After PCA\n",
        "Now, let's plot the original data and the data after PCA to compare the reduction in dimensions visually."
      ]
    },
    {
      "cell_type": "code",
      "execution_count": 29,
      "metadata": {
        "id": "WwuppWV-r_Kg",
        "colab": {
          "base_uri": "https://localhost:8080/",
          "height": 507
        },
        "outputId": "470beefb-40e0-41ca-9514-2b4e95d827ce"
      },
      "outputs": [
        {
          "output_type": "display_data",
          "data": {
            "text/plain": [
              "<Figure size 1200x500 with 2 Axes>"
            ],
            "image/png": "[encoded data removed]"
          },
          "metadata": {}
        }
      ],
      "source": [
        "import matplotlib.pyplot as plt\n",
        "\n",
        "plt.figure(figsize=(12, 5))\n",
        "\n",
        "# Original Data (first 2 features)\n",
        "plt.subplot(1, 2, 1)\n",
        "plt.scatter(standardized_data[:, 0], standardized_data[:, 1], alpha=0.6)\n",
        "plt.title(\"Original Data (First 2 Features)\")\n",
        "plt.xlabel(\"Feature 1\")\n",
        "plt.ylabel(\"Feature 2\")\n",
        "\n",
        "# Reduced Data (first 2 principal components)\n",
        "plt.subplot(1, 2, 2)\n",
        "plt.scatter(reduced_data[:, 0], reduced_data[:, 1], alpha=0.6, color='red')\n",
        "plt.title(\"PCA Reduced Data\")\n",
        "plt.xlabel(\"PC1\")\n",
        "plt.ylabel(\"PC2\")\n",
        "\n",
        "plt.tight_layout()\n",
        "plt.show()\n"
      ]
    }
  ],
  "metadata": {
    "kernelspec": {
      "display_name": "Python 3",
      "name": "python3"
    },
    "language_info": {
      "name": "python",
      "version": "3.8.8"
    },
    "colab": {
      "provenance": []
    }
  },
  "nbformat": 4,
  "nbformat_minor": 0
}